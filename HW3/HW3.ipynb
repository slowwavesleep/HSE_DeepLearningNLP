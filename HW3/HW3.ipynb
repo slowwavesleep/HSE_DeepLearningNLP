{
 "cells": [
  {
   "cell_type": "markdown",
   "source": [
    "## Что нужно было сделать\n",
    "1. Написать Dataset для задачи seq2seq\n",
    "2. Реализовать модель\n",
    "3. Сделать цикл обучения\n",
    "4. Реализовать метод генерации ответа по вопросу с помощью вашей модели\n",
    "\n",
    "## Что было сделано (отмечено ✓)\n",
    "\n",
    "1. Сделать модель, основанную на lstm/gru 5 баллов ✓\n",
    "2. Сделать модель, основанную на cnn 7 баллов\n",
    "3. Сделать модель, основанную на трансформере (реализовать все слои самому) 10 баллов\n",
    "4. Добавить в rnn/cnn модель attention 5 баллов ✓\n",
    "5. Реализовать жадное семплирование (генерацию по самому вероятному токену, как выше в языковой модели) 3 балла ✓\n",
    "6. Реализовать beam search 5 баллов\n",
    "7. Реализовать nucleus sampling 5 баллов ✓\n",
    "8. Добавить condition в модель 3 балла\n",
    "9. Добавить layer norm/residual в cnn или rnn модель 1 балл ✓\n",
    "10. Реализовать аккамуляцию градиентов 1 балл\n",
    "11. Сделать телеграм бота 2 балла\n",
    "Конвертируем json в более удобный формат.\n",
    "\n",
    "## Шаги решения\n",
    "\n",
    "`1.` Сначала я преобразовал данные в более удобный формат: файлы `source` и\n",
    "`target` содержат пары вопросов и ответов на них.\n",
    "```\n",
    "python convert_data.py\n",
    "```\n",
    "`2.` Затем данные были разделены на train, dev, test.\n",
    "```\n",
    "python split_data.py data/source data/target data 42\n",
    "```\n",
    "`3.` Обучил модель и нагенерировал ответы с помощью **greedy search**\n",
    "и **nucleus sampling** (файлы `greedy_responses.txt` и `nucleus_responses.txt` в\n",
    "папке `results`).\n",
    "```\n",
    "python train.py\n",
    "```\n",
    "\n",
    "Ниже процесс обучения для наглядности."
   ],
   "metadata": {
    "collapsed": false,
    "pycharm": {
     "name": "#%% md\n"
    }
   }
  },
  {
   "cell_type": "code",
   "execution_count": null,
   "outputs": [],
   "source": [],
   "metadata": {
    "collapsed": false,
    "pycharm": {
     "name": "#%%\n"
    }
   }
  }
 ],
 "metadata": {
  "kernelspec": {
   "display_name": "Python 3",
   "language": "python",
   "name": "python3"
  },
  "language_info": {
   "codemirror_mode": {
    "name": "ipython",
    "version": 2
   },
   "file_extension": ".py",
   "mimetype": "text/x-python",
   "name": "python",
   "nbconvert_exporter": "python",
   "pygments_lexer": "ipython2",
   "version": "2.7.6"
  }
 },
 "nbformat": 4,
 "nbformat_minor": 0
}